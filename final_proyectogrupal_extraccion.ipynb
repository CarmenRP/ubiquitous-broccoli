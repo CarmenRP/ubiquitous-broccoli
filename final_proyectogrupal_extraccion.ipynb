{
 "cells": [
  {
   "cell_type": "code",
   "execution_count": 5,
   "metadata": {},
   "outputs": [
    {
     "name": "stdout",
     "output_type": "stream",
     "text": [
      "Collecting openpyxl\n",
      "  Downloading openpyxl-3.1.5-py2.py3-none-any.whl.metadata (2.5 kB)\n",
      "Collecting et-xmlfile (from openpyxl)\n",
      "  Using cached et_xmlfile-1.1.0-py3-none-any.whl.metadata (1.8 kB)\n",
      "Downloading openpyxl-3.1.5-py2.py3-none-any.whl (250 kB)\n",
      "\u001b[2K   \u001b[90m━━━━━━━━━━━━━━━━━━━━━━━━━━━━━━━━━━━━━━━━\u001b[0m \u001b[32m250.9/250.9 kB\u001b[0m \u001b[31m3.8 MB/s\u001b[0m eta \u001b[36m0:00:00\u001b[0m00:01\u001b[0m\n",
      "\u001b[?25hUsing cached et_xmlfile-1.1.0-py3-none-any.whl (4.7 kB)\n",
      "Installing collected packages: et-xmlfile, openpyxl\n",
      "Successfully installed et-xmlfile-1.1.0 openpyxl-3.1.5\n",
      "\n",
      "\u001b[1m[\u001b[0m\u001b[34;49mnotice\u001b[0m\u001b[1;39;49m]\u001b[0m\u001b[39;49m A new release of pip is available: \u001b[0m\u001b[31;49m24.0\u001b[0m\u001b[39;49m -> \u001b[0m\u001b[32;49m24.1.2\u001b[0m\n",
      "\u001b[1m[\u001b[0m\u001b[34;49mnotice\u001b[0m\u001b[1;39;49m]\u001b[0m\u001b[39;49m To update, run: \u001b[0m\u001b[32;49mpip3 install --upgrade pip\u001b[0m\n",
      "Note: you may need to restart the kernel to use updated packages.\n"
     ]
    }
   ],
   "source": [
    "pip install openpyxl"
   ]
  },
  {
   "cell_type": "code",
   "execution_count": 2,
   "metadata": {},
   "outputs": [],
   "source": [
    "import numpy as np\n",
    "import pandas as pd\n",
    "import requests\n",
    "import bs4\n",
    "from bs4 import BeautifulSoup\n",
    "from time import sleep"
   ]
  },
  {
   "cell_type": "code",
   "execution_count": 3,
   "metadata": {},
   "outputs": [
    {
     "name": "stdout",
     "output_type": "stream",
     "text": [
      "numpy==2.0.1\n",
      "requests==2.32.3\n",
      "bs4==4.12.3\n"
     ]
    }
   ],
   "source": [
    "print(f\"numpy=={np.__version__}\")\n",
    "print(f\"requests=={requests.__version__}\")\n",
    "print(f\"bs4=={bs4.__version__}\")"
   ]
  },
  {
   "cell_type": "code",
   "execution_count": 6,
   "metadata": {},
   "outputs": [],
   "source": [
    "url = 'https://dataestur.azure-api.net/API-SEGITTUR-v1/ACTIVIDADES_OCIO_DL?CCAA=Todos&Provincia=Todos'\n",
    "headers = {\"content-type\" : \"application/json\"}\n",
    "response = requests.get(url = url, headers =  headers)\n",
    "df_ocio = pd.read_excel(url)"
   ]
  },
  {
   "cell_type": "code",
   "execution_count": 7,
   "metadata": {},
   "outputs": [
    {
     "data": {
      "text/html": [
       "<div>\n",
       "<style scoped>\n",
       "    .dataframe tbody tr th:only-of-type {\n",
       "        vertical-align: middle;\n",
       "    }\n",
       "\n",
       "    .dataframe tbody tr th {\n",
       "        vertical-align: top;\n",
       "    }\n",
       "\n",
       "    .dataframe thead th {\n",
       "        text-align: right;\n",
       "    }\n",
       "</style>\n",
       "<table border=\"1\" class=\"dataframe\">\n",
       "  <thead>\n",
       "    <tr style=\"text-align: right;\">\n",
       "      <th></th>\n",
       "      <th>AÑO</th>\n",
       "      <th>MES</th>\n",
       "      <th>CCAA</th>\n",
       "      <th>PROVINCIA</th>\n",
       "      <th>ENTRADAS</th>\n",
       "      <th>VISITAS_PAGINAS</th>\n",
       "      <th>GASTO_TOTAL</th>\n",
       "      <th>PRECIO_MEDIO_ENTRADA</th>\n",
       "      <th>TRANSACCIONES</th>\n",
       "    </tr>\n",
       "  </thead>\n",
       "  <tbody>\n",
       "    <tr>\n",
       "      <th>0</th>\n",
       "      <td>2018</td>\n",
       "      <td>1</td>\n",
       "      <td>Andalucía</td>\n",
       "      <td>Almería</td>\n",
       "      <td>3</td>\n",
       "      <td>8</td>\n",
       "      <td>122.6043</td>\n",
       "      <td>40.8681</td>\n",
       "      <td>1</td>\n",
       "    </tr>\n",
       "    <tr>\n",
       "      <th>1</th>\n",
       "      <td>2018</td>\n",
       "      <td>1</td>\n",
       "      <td>Andalucía</td>\n",
       "      <td>Cádiz</td>\n",
       "      <td>11</td>\n",
       "      <td>236</td>\n",
       "      <td>994.5656</td>\n",
       "      <td>89.7555</td>\n",
       "      <td>6</td>\n",
       "    </tr>\n",
       "    <tr>\n",
       "      <th>2</th>\n",
       "      <td>2018</td>\n",
       "      <td>1</td>\n",
       "      <td>Andalucía</td>\n",
       "      <td>Córdoba</td>\n",
       "      <td>104</td>\n",
       "      <td>712</td>\n",
       "      <td>7287.4474</td>\n",
       "      <td>68.7236</td>\n",
       "      <td>54</td>\n",
       "    </tr>\n",
       "    <tr>\n",
       "      <th>3</th>\n",
       "      <td>2018</td>\n",
       "      <td>1</td>\n",
       "      <td>Andalucía</td>\n",
       "      <td>Granada</td>\n",
       "      <td>200</td>\n",
       "      <td>2442</td>\n",
       "      <td>9883.8532</td>\n",
       "      <td>66.6831</td>\n",
       "      <td>95</td>\n",
       "    </tr>\n",
       "    <tr>\n",
       "      <th>4</th>\n",
       "      <td>2018</td>\n",
       "      <td>1</td>\n",
       "      <td>Andalucía</td>\n",
       "      <td>Huelva</td>\n",
       "      <td>10</td>\n",
       "      <td>138</td>\n",
       "      <td>1089.6814</td>\n",
       "      <td>95.3422</td>\n",
       "      <td>10</td>\n",
       "    </tr>\n",
       "  </tbody>\n",
       "</table>\n",
       "</div>"
      ],
      "text/plain": [
       "    AÑO  MES       CCAA PROVINCIA  ENTRADAS  VISITAS_PAGINAS  GASTO_TOTAL  \\\n",
       "0  2018    1  Andalucía   Almería         3                8     122.6043   \n",
       "1  2018    1  Andalucía     Cádiz        11              236     994.5656   \n",
       "2  2018    1  Andalucía   Córdoba       104              712    7287.4474   \n",
       "3  2018    1  Andalucía   Granada       200             2442    9883.8532   \n",
       "4  2018    1  Andalucía    Huelva        10              138    1089.6814   \n",
       "\n",
       "   PRECIO_MEDIO_ENTRADA  TRANSACCIONES  \n",
       "0               40.8681              1  \n",
       "1               89.7555              6  \n",
       "2               68.7236             54  \n",
       "3               66.6831             95  \n",
       "4               95.3422             10  "
      ]
     },
     "execution_count": 7,
     "metadata": {},
     "output_type": "execute_result"
    }
   ],
   "source": [
    "df_ocio.head()"
   ]
  },
  {
   "cell_type": "code",
   "execution_count": 8,
   "metadata": {},
   "outputs": [
    {
     "data": {
      "text/html": [
       "<div>\n",
       "<style scoped>\n",
       "    .dataframe tbody tr th:only-of-type {\n",
       "        vertical-align: middle;\n",
       "    }\n",
       "\n",
       "    .dataframe tbody tr th {\n",
       "        vertical-align: top;\n",
       "    }\n",
       "\n",
       "    .dataframe thead th {\n",
       "        text-align: right;\n",
       "    }\n",
       "</style>\n",
       "<table border=\"1\" class=\"dataframe\">\n",
       "  <thead>\n",
       "    <tr style=\"text-align: right;\">\n",
       "      <th></th>\n",
       "      <th>AÑO</th>\n",
       "      <th>MES</th>\n",
       "      <th>CCAA</th>\n",
       "      <th>PROVINCIA</th>\n",
       "      <th>ENTRADAS</th>\n",
       "      <th>VISITAS_PAGINAS</th>\n",
       "      <th>GASTO_TOTAL</th>\n",
       "      <th>PRECIO_MEDIO_ENTRADA</th>\n",
       "      <th>TRANSACCIONES</th>\n",
       "    </tr>\n",
       "  </thead>\n",
       "  <tbody>\n",
       "    <tr>\n",
       "      <th>2931</th>\n",
       "      <td>2024</td>\n",
       "      <td>5</td>\n",
       "      <td>País Vasco</td>\n",
       "      <td>Araba/Álava</td>\n",
       "      <td>1136</td>\n",
       "      <td>2045</td>\n",
       "      <td>7480.51</td>\n",
       "      <td>5.0157</td>\n",
       "      <td>541</td>\n",
       "    </tr>\n",
       "    <tr>\n",
       "      <th>2932</th>\n",
       "      <td>2024</td>\n",
       "      <td>5</td>\n",
       "      <td>País Vasco</td>\n",
       "      <td>Bizkaia</td>\n",
       "      <td>8567</td>\n",
       "      <td>15420</td>\n",
       "      <td>148584.68</td>\n",
       "      <td>16.2978</td>\n",
       "      <td>5302</td>\n",
       "    </tr>\n",
       "    <tr>\n",
       "      <th>2933</th>\n",
       "      <td>2024</td>\n",
       "      <td>5</td>\n",
       "      <td>País Vasco</td>\n",
       "      <td>Gipuzkoa</td>\n",
       "      <td>2886</td>\n",
       "      <td>5195</td>\n",
       "      <td>39287.90</td>\n",
       "      <td>12.1969</td>\n",
       "      <td>1544</td>\n",
       "    </tr>\n",
       "    <tr>\n",
       "      <th>2934</th>\n",
       "      <td>2024</td>\n",
       "      <td>5</td>\n",
       "      <td>Principado de Asturias</td>\n",
       "      <td>Asturias</td>\n",
       "      <td>13795</td>\n",
       "      <td>24826</td>\n",
       "      <td>26093.02</td>\n",
       "      <td>12.6123</td>\n",
       "      <td>2950</td>\n",
       "    </tr>\n",
       "    <tr>\n",
       "      <th>2935</th>\n",
       "      <td>2024</td>\n",
       "      <td>5</td>\n",
       "      <td>Región de Murcia</td>\n",
       "      <td>Murcia</td>\n",
       "      <td>2617</td>\n",
       "      <td>4708</td>\n",
       "      <td>45762.66</td>\n",
       "      <td>36.1800</td>\n",
       "      <td>1116</td>\n",
       "    </tr>\n",
       "  </tbody>\n",
       "</table>\n",
       "</div>"
      ],
      "text/plain": [
       "       AÑO  MES                    CCAA    PROVINCIA  ENTRADAS  \\\n",
       "2931  2024    5              País Vasco  Araba/Álava      1136   \n",
       "2932  2024    5              País Vasco      Bizkaia      8567   \n",
       "2933  2024    5              País Vasco     Gipuzkoa      2886   \n",
       "2934  2024    5  Principado de Asturias     Asturias     13795   \n",
       "2935  2024    5        Región de Murcia       Murcia      2617   \n",
       "\n",
       "      VISITAS_PAGINAS  GASTO_TOTAL  PRECIO_MEDIO_ENTRADA  TRANSACCIONES  \n",
       "2931             2045      7480.51                5.0157            541  \n",
       "2932            15420    148584.68               16.2978           5302  \n",
       "2933             5195     39287.90               12.1969           1544  \n",
       "2934            24826     26093.02               12.6123           2950  \n",
       "2935             4708     45762.66               36.1800           1116  "
      ]
     },
     "execution_count": 8,
     "metadata": {},
     "output_type": "execute_result"
    }
   ],
   "source": [
    "df_ocio.tail()"
   ]
  },
  {
   "cell_type": "code",
   "execution_count": 9,
   "metadata": {},
   "outputs": [],
   "source": [
    "df_ocio.to_csv(\"ocio_españa.csv\")\n"
   ]
  }
 ],
 "metadata": {
  "kernelspec": {
   "display_name": ".env",
   "language": "python",
   "name": "python3"
  },
  "language_info": {
   "codemirror_mode": {
    "name": "ipython",
    "version": 3
   },
   "file_extension": ".py",
   "mimetype": "text/x-python",
   "name": "python",
   "nbconvert_exporter": "python",
   "pygments_lexer": "ipython3",
   "version": "3.12.3"
  }
 },
 "nbformat": 4,
 "nbformat_minor": 2
}
